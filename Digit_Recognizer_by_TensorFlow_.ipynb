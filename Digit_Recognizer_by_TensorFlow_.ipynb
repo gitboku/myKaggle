{
  "nbformat": 4,
  "nbformat_minor": 0,
  "metadata": {
    "kernelspec": {
      "language": "python",
      "display_name": "Python 3",
      "name": "python3"
    },
    "language_info": {
      "pygments_lexer": "ipython3",
      "nbconvert_exporter": "python",
      "version": "3.6.4",
      "file_extension": ".py",
      "codemirror_mode": {
        "name": "ipython",
        "version": 3
      },
      "name": "python",
      "mimetype": "text/x-python"
    },
    "colab": {
      "name": "Digit Recognizer by TensorFlow .ipynb",
      "provenance": [],
      "include_colab_link": true
    }
  },
  "cells": [
    {
      "cell_type": "markdown",
      "metadata": {
        "id": "view-in-github",
        "colab_type": "text"
      },
      "source": [
        "<a href=\"https://colab.research.google.com/github/gitboku/myKaggle/blob/master/Digit_Recognizer_by_TensorFlow_.ipynb\" target=\"_parent\"><img src=\"https://colab.research.google.com/assets/colab-badge.svg\" alt=\"Open In Colab\"/></a>"
      ]
    },
    {
      "cell_type": "markdown",
      "metadata": {
        "id": "OrXkt04PmbxK",
        "colab_type": "text"
      },
      "source": [
        "# Importing the necessary Libraries"
      ]
    },
    {
      "cell_type": "code",
      "metadata": {
        "_uuid": "8f2839f25d086af736a60e9eeb907d3b93b6e0e5",
        "_cell_guid": "b1076dfc-b9ad-4769-8c92-a6c4dae69d19",
        "trusted": true,
        "scrolled": true,
        "id": "lTYOd7yOmbxO",
        "colab_type": "code",
        "colab": {}
      },
      "source": [
        "import numpy as np # linear algebra\n",
        "import pandas as pd # data processing, CSV file I/O (e.g. pd.read_csv)\n",
        "import matplotlib.pyplot as plt\n",
        "import pandas as pd\n",
        "\n",
        "\n",
        "import os\n",
        "for dirname, _, filenames in os.walk('/kaggle/input'):\n",
        "    for filename in filenames:\n",
        "        print(os.path.join(dirname, filename))\n",
        "\n"
      ],
      "execution_count": null,
      "outputs": []
    },
    {
      "cell_type": "code",
      "metadata": {
        "trusted": true,
        "scrolled": true,
        "id": "v6Q0hIpOmbxY",
        "colab_type": "code",
        "colab": {}
      },
      "source": [
        "# pip install -q tensorflow"
      ],
      "execution_count": null,
      "outputs": []
    },
    {
      "cell_type": "code",
      "metadata": {
        "trusted": true,
        "scrolled": true,
        "id": "h_e_I3pambxi",
        "colab_type": "code",
        "colab": {}
      },
      "source": [
        "import tensorflow.compat.v2 as tf\n",
        "\n",
        "tf.enable_v2_behavior()"
      ],
      "execution_count": null,
      "outputs": []
    },
    {
      "cell_type": "code",
      "metadata": {
        "trusted": true,
        "scrolled": true,
        "id": "_1XEjxukmbxn",
        "colab_type": "code",
        "colab": {}
      },
      "source": [
        "tf.__version__"
      ],
      "execution_count": null,
      "outputs": []
    },
    {
      "cell_type": "markdown",
      "metadata": {
        "id": "PgvDcxbcmbxt",
        "colab_type": "text"
      },
      "source": [
        "# Loading The Dataset"
      ]
    },
    {
      "cell_type": "code",
      "metadata": {
        "_uuid": "d629ff2d2480ee46fbb7e2d37f6b5fab8052498a",
        "_cell_guid": "79c7e3d0-c299-4dcb-8224-4455121ee9b0",
        "trusted": true,
        "scrolled": true,
        "id": "SUcCp-bymbxu",
        "colab_type": "code",
        "colab": {}
      },
      "source": [
        "train = pd.read_csv(\"/kaggle/input/digit-recognizer/train.csv\",dtype = np.float32)\n",
        "train.head()"
      ],
      "execution_count": null,
      "outputs": []
    },
    {
      "cell_type": "code",
      "metadata": {
        "trusted": true,
        "scrolled": true,
        "id": "xSgz0oVEmbx0",
        "colab_type": "code",
        "colab": {}
      },
      "source": [
        ""
      ],
      "execution_count": null,
      "outputs": []
    },
    {
      "cell_type": "code",
      "metadata": {
        "trusted": true,
        "scrolled": true,
        "id": "w8DNOGF5mbx5",
        "colab_type": "code",
        "colab": {}
      },
      "source": [
        "type(train)"
      ],
      "execution_count": null,
      "outputs": []
    },
    {
      "cell_type": "code",
      "metadata": {
        "trusted": true,
        "scrolled": true,
        "id": "OkZ8UeLAmbx9",
        "colab_type": "code",
        "colab": {}
      },
      "source": [
        "train.columns"
      ],
      "execution_count": null,
      "outputs": []
    },
    {
      "cell_type": "markdown",
      "metadata": {
        "id": "MZ4f5WeMmbyB",
        "colab_type": "text"
      },
      "source": [
        "## Load pandas dataframes into a `tf.data.Dataset`\n",
        "\n",
        "https://www.tensorflow.org/tutorials/load_data/pandas_dataframe"
      ]
    },
    {
      "cell_type": "code",
      "metadata": {
        "trusted": true,
        "scrolled": true,
        "id": "jtdiVPKbmbyD",
        "colab_type": "code",
        "colab": {}
      },
      "source": [
        "if 'label' in train:\n",
        "    label = train.pop('label')\n",
        "label"
      ],
      "execution_count": null,
      "outputs": []
    },
    {
      "cell_type": "markdown",
      "metadata": {
        "id": "cHwcpDF0mbyH",
        "colab_type": "text"
      },
      "source": [
        "### Divide train and test"
      ]
    },
    {
      "cell_type": "code",
      "metadata": {
        "trusted": true,
        "scrolled": true,
        "id": "6UYS1JMfmbyH",
        "colab_type": "code",
        "colab": {}
      },
      "source": [
        "from sklearn.model_selection import train_test_split\n",
        "\n",
        "X_train, X_test, label_train, label_test = train_test_split(\n",
        "    train,\n",
        "    label,\n",
        "    test_size=0.33,\n",
        "    random_state=42\n",
        ")"
      ],
      "execution_count": null,
      "outputs": []
    },
    {
      "cell_type": "code",
      "metadata": {
        "trusted": true,
        "scrolled": true,
        "id": "Gd7YcLcCmbyM",
        "colab_type": "code",
        "colab": {}
      },
      "source": [
        "X_train.head()"
      ],
      "execution_count": null,
      "outputs": []
    },
    {
      "cell_type": "code",
      "metadata": {
        "trusted": true,
        "scrolled": true,
        "id": "JqHoC1Z1mbyS",
        "colab_type": "code",
        "colab": {}
      },
      "source": [
        "label_numpy = np.array(label_train)"
      ],
      "execution_count": null,
      "outputs": []
    },
    {
      "cell_type": "code",
      "metadata": {
        "trusted": true,
        "scrolled": true,
        "id": "nxbgBabDmbyY",
        "colab_type": "code",
        "colab": {}
      },
      "source": [
        "type(label_numpy)"
      ],
      "execution_count": null,
      "outputs": []
    },
    {
      "cell_type": "code",
      "metadata": {
        "trusted": true,
        "scrolled": true,
        "id": "tmbet9YPmbyb",
        "colab_type": "code",
        "colab": {}
      },
      "source": [
        "image = []\n",
        "for pixelNum in train:\n",
        "    image.append(train[pixelNum][0])\n",
        "image_numpy = np.array(image)\n",
        "image_numpy = np.reshape(image, (28,28))\n",
        "\n",
        "plt.imshow(image_numpy)\n",
        "plt.axis(\"off\")\n",
        "plt.title(str(label_numpy[0]))\n",
        "plt.show()"
      ],
      "execution_count": null,
      "outputs": []
    },
    {
      "cell_type": "markdown",
      "metadata": {
        "id": "9OGLykYZmbyg",
        "colab_type": "text"
      },
      "source": [
        "# Normalization"
      ]
    },
    {
      "cell_type": "code",
      "metadata": {
        "trusted": true,
        "scrolled": true,
        "id": "IM-4yGUxmbyg",
        "colab_type": "code",
        "colab": {}
      },
      "source": [
        "np.average(X_train['pixel333'])"
      ],
      "execution_count": null,
      "outputs": []
    },
    {
      "cell_type": "code",
      "metadata": {
        "trusted": true,
        "scrolled": true,
        "id": "FY8cgzUxmbyk",
        "colab_type": "code",
        "colab": {}
      },
      "source": [
        "X_train = X_train / 255.0"
      ],
      "execution_count": null,
      "outputs": []
    },
    {
      "cell_type": "code",
      "metadata": {
        "trusted": true,
        "scrolled": true,
        "id": "TSKj9zLombyp",
        "colab_type": "code",
        "colab": {}
      },
      "source": [
        "np.average(X_train['pixel333'])"
      ],
      "execution_count": null,
      "outputs": []
    },
    {
      "cell_type": "markdown",
      "metadata": {
        "id": "WEjzQ6WMmbys",
        "colab_type": "text"
      },
      "source": [
        "# Make Model\n",
        "\n",
        "https://www.tensorflow.org/tutorials/keras/classification?hl=ja"
      ]
    },
    {
      "cell_type": "code",
      "metadata": {
        "trusted": true,
        "scrolled": true,
        "id": "P3h2qB6embyt",
        "colab_type": "code",
        "colab": {}
      },
      "source": [
        "from tensorflow import keras"
      ],
      "execution_count": null,
      "outputs": []
    },
    {
      "cell_type": "markdown",
      "metadata": {
        "id": "68b8uOInmbyw",
        "colab_type": "text"
      },
      "source": [
        "`Sequential API` or `Functional API` or `Subclassing API`"
      ]
    },
    {
      "cell_type": "code",
      "metadata": {
        "trusted": true,
        "scrolled": true,
        "id": "jtvF7nsSmbyx",
        "colab_type": "code",
        "colab": {}
      },
      "source": [
        "# use Sequential API\n",
        "model = keras.Sequential([\n",
        "    keras.layers.Flatten(input_shape=(1, 784), name='first_layer'),\n",
        "    keras.layers.Dense(128, activation='relu', name='middle_layer'),\n",
        "    keras.layers.Dense(10, activation='softmax', name='last_layer')\n",
        "])"
      ],
      "execution_count": null,
      "outputs": []
    },
    {
      "cell_type": "code",
      "metadata": {
        "trusted": true,
        "scrolled": true,
        "id": "lZ6F3NgTmby0",
        "colab_type": "code",
        "colab": {}
      },
      "source": [
        "model.summary()"
      ],
      "execution_count": null,
      "outputs": []
    },
    {
      "cell_type": "markdown",
      "metadata": {
        "id": "EVZH9gEFmby5",
        "colab_type": "text"
      },
      "source": [
        "## Compile\n",
        "\n",
        "Have to add several configs enable model to training.\n",
        "https://www.tensorflow.org/tutorials/keras/classification?hl=ja#%E3%83%A2%E3%83%87%E3%83%AB%E3%81%AE%E3%82%B3%E3%83%B3%E3%83%91%E3%82%A4%E3%83%AB"
      ]
    },
    {
      "cell_type": "code",
      "metadata": {
        "trusted": true,
        "scrolled": true,
        "id": "vgEEKXcnmby6",
        "colab_type": "code",
        "colab": {}
      },
      "source": [
        "model.compile(\n",
        "    optimizer='adam',\n",
        "    loss='sparse_categorical_crossentropy',\n",
        "    metrics=['accuracy']\n",
        ")"
      ],
      "execution_count": null,
      "outputs": []
    },
    {
      "cell_type": "markdown",
      "metadata": {
        "id": "6yOy0sOnmby_",
        "colab_type": "text"
      },
      "source": [
        "## Lets Train our Model"
      ]
    },
    {
      "cell_type": "code",
      "metadata": {
        "trusted": true,
        "scrolled": true,
        "id": "7vwoGt7AmbzA",
        "colab_type": "code",
        "colab": {}
      },
      "source": [
        "model.fit(X_train, label_train, epochs=5)"
      ],
      "execution_count": null,
      "outputs": []
    },
    {
      "cell_type": "markdown",
      "metadata": {
        "id": "VomO2RK0mbzD",
        "colab_type": "text"
      },
      "source": [
        "# Check accuracy"
      ]
    },
    {
      "cell_type": "code",
      "metadata": {
        "trusted": true,
        "scrolled": true,
        "id": "a_IpeniumbzE",
        "colab_type": "code",
        "colab": {}
      },
      "source": [
        "X_test = X_test / 255.0\n",
        "\n",
        "test_loss, test_acc = model.evaluate(X_test,  label_test, verbose=2)\n",
        "\n",
        "print('\\nTest accuracy:', test_acc)\n"
      ],
      "execution_count": null,
      "outputs": []
    },
    {
      "cell_type": "code",
      "metadata": {
        "trusted": true,
        "scrolled": true,
        "id": "Wrb3iRTcmbzI",
        "colab_type": "code",
        "colab": {}
      },
      "source": [
        "# array of probability that show what number this is.\n",
        "predictions = model.predict(X_test)\n",
        "print(predictions[0])"
      ],
      "execution_count": null,
      "outputs": []
    },
    {
      "cell_type": "code",
      "metadata": {
        "trusted": true,
        "scrolled": true,
        "id": "1rgtnaXUmbzM",
        "colab_type": "code",
        "colab": {}
      },
      "source": [
        "print(type(predictions))\n",
        "print(predictions.shape)"
      ],
      "execution_count": null,
      "outputs": []
    },
    {
      "cell_type": "code",
      "metadata": {
        "trusted": true,
        "scrolled": true,
        "id": "3pHEbFFembzP",
        "colab_type": "code",
        "colab": {}
      },
      "source": [
        "# X_test[0] is predicted as '8'.\n",
        "np.argmax(predictions[0])"
      ],
      "execution_count": null,
      "outputs": []
    },
    {
      "cell_type": "code",
      "metadata": {
        "trusted": true,
        "scrolled": true,
        "id": "fl0op7DPmbzT",
        "colab_type": "code",
        "colab": {}
      },
      "source": [
        "label_test_numpy = np.array(label_test)\n",
        "print(label_test_numpy[0])"
      ],
      "execution_count": null,
      "outputs": []
    },
    {
      "cell_type": "markdown",
      "metadata": {
        "id": "6DI1vyeGmbzV",
        "colab_type": "text"
      },
      "source": [
        "# Predict"
      ]
    },
    {
      "cell_type": "code",
      "metadata": {
        "trusted": true,
        "scrolled": true,
        "id": "RoCBhvBRmbzW",
        "colab_type": "code",
        "colab": {}
      },
      "source": [
        "test = pd.read_csv(\"/kaggle/input/digit-recognizer/test.csv\",dtype = np.float32)\n",
        "test.head()"
      ],
      "execution_count": null,
      "outputs": []
    },
    {
      "cell_type": "code",
      "metadata": {
        "trusted": true,
        "scrolled": true,
        "id": "gTSPcPXvmbzZ",
        "colab_type": "code",
        "colab": {}
      },
      "source": [
        "type(test)"
      ],
      "execution_count": null,
      "outputs": []
    },
    {
      "cell_type": "code",
      "metadata": {
        "trusted": true,
        "scrolled": true,
        "id": "mdc6D12Hmbzd",
        "colab_type": "code",
        "colab": {}
      },
      "source": [
        "test = test / 255.0\n",
        "print(np.average(test['pixel333']))"
      ],
      "execution_count": null,
      "outputs": []
    },
    {
      "cell_type": "code",
      "metadata": {
        "trusted": true,
        "scrolled": true,
        "id": "sXb2-rfMmbzf",
        "colab_type": "code",
        "colab": {}
      },
      "source": [
        "test_predict = model.predict(test)\n",
        "\n",
        "csv_data = [['ImageId', 'Label']]\n",
        "index = 1\n",
        "for pre_row in test_predict:\n",
        "    csv_data.append([index, np.argmax(pre_row)])\n",
        "csv_data_numpy = np.array(csv_data)"
      ],
      "execution_count": null,
      "outputs": []
    },
    {
      "cell_type": "code",
      "metadata": {
        "trusted": true,
        "scrolled": true,
        "id": "MeIRZYc5mbzi",
        "colab_type": "code",
        "colab": {}
      },
      "source": [
        "print(csv_data_numpy.shape)"
      ],
      "execution_count": null,
      "outputs": []
    },
    {
      "cell_type": "code",
      "metadata": {
        "trusted": true,
        "scrolled": true,
        "id": "2Kc9LQ0Kmbzk",
        "colab_type": "code",
        "colab": {}
      },
      "source": [
        "csv_data_numpy[:5]"
      ],
      "execution_count": null,
      "outputs": []
    },
    {
      "cell_type": "code",
      "metadata": {
        "trusted": true,
        "scrolled": true,
        "id": "dJGz_pcnmbzo",
        "colab_type": "code",
        "colab": {}
      },
      "source": [
        "np.savetxt('/kaggle/working/digit-recognizer/submissioh.csv', csv_data_numpy)"
      ],
      "execution_count": null,
      "outputs": []
    }
  ]
}